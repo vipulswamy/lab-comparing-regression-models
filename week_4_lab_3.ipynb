{
 "cells": [
  {
   "cell_type": "markdown",
   "id": "bdfe060d",
   "metadata": {},
   "source": [
    "# Lab | Comparing regression models"
   ]
  },
  {
   "cell_type": "markdown",
   "id": "860b0959",
   "metadata": {},
   "source": [
    "### Used Libraries"
   ]
  },
  {
   "cell_type": "code",
   "execution_count": 104,
   "id": "56be40a3",
   "metadata": {},
   "outputs": [],
   "source": [
    "import pandas as pd\n",
    "import numpy as np\n",
    "from scipy import stats\n",
    "import matplotlib.pyplot as plt\n",
    "import seaborn as sns \n",
    "import math\n",
    "%matplotlib inline\n",
    "\n",
    "from sklearn.linear_model import LinearRegression\n",
    "from sklearn.neighbors import KNeighborsRegressor\n",
    "from sklearn.neural_network import MLPRegressor\n",
    "\n",
    "\n",
    "from sklearn.preprocessing import MinMaxScaler\n",
    "from sklearn.preprocessing import StandardScaler\n",
    "from sklearn.preprocessing import OneHotEncoder\n",
    "from sklearn.model_selection import train_test_split\n",
    "from sklearn.preprocessing import PowerTransformer\n",
    "\n",
    "from sklearn.metrics import r2_score, mean_squared_error, mean_absolute_error\n",
    "    "
   ]
  },
  {
   "cell_type": "markdown",
   "id": "b1f8cf3b",
   "metadata": {},
   "source": [
    "#### recording the functions and solutions from week1_lab8, week4_lab1 and week_4lab2"
   ]
  },
  {
   "cell_type": "markdown",
   "id": "bdb2d3b3",
   "metadata": {},
   "source": [
    "####  Getting Data"
   ]
  },
  {
   "cell_type": "code",
   "execution_count": 2,
   "id": "84412fd4",
   "metadata": {},
   "outputs": [
    {
     "data": {
      "text/html": [
       "<div>\n",
       "<style scoped>\n",
       "    .dataframe tbody tr th:only-of-type {\n",
       "        vertical-align: middle;\n",
       "    }\n",
       "\n",
       "    .dataframe tbody tr th {\n",
       "        vertical-align: top;\n",
       "    }\n",
       "\n",
       "    .dataframe thead th {\n",
       "        text-align: right;\n",
       "    }\n",
       "</style>\n",
       "<table border=\"1\" class=\"dataframe\">\n",
       "  <thead>\n",
       "    <tr style=\"text-align: right;\">\n",
       "      <th></th>\n",
       "      <th>Customer</th>\n",
       "      <th>State</th>\n",
       "      <th>Customer Lifetime Value</th>\n",
       "      <th>Response</th>\n",
       "      <th>Coverage</th>\n",
       "      <th>Education</th>\n",
       "      <th>Effective To Date</th>\n",
       "      <th>EmploymentStatus</th>\n",
       "      <th>Gender</th>\n",
       "      <th>Income</th>\n",
       "      <th>...</th>\n",
       "      <th>Months Since Policy Inception</th>\n",
       "      <th>Number of Open Complaints</th>\n",
       "      <th>Number of Policies</th>\n",
       "      <th>Policy Type</th>\n",
       "      <th>Policy</th>\n",
       "      <th>Renew Offer Type</th>\n",
       "      <th>Sales Channel</th>\n",
       "      <th>Total Claim Amount</th>\n",
       "      <th>Vehicle Class</th>\n",
       "      <th>Vehicle Size</th>\n",
       "    </tr>\n",
       "  </thead>\n",
       "  <tbody>\n",
       "    <tr>\n",
       "      <th>0</th>\n",
       "      <td>BU79786</td>\n",
       "      <td>Washington</td>\n",
       "      <td>2763.519279</td>\n",
       "      <td>No</td>\n",
       "      <td>Basic</td>\n",
       "      <td>Bachelor</td>\n",
       "      <td>2/24/11</td>\n",
       "      <td>Employed</td>\n",
       "      <td>F</td>\n",
       "      <td>56274</td>\n",
       "      <td>...</td>\n",
       "      <td>5</td>\n",
       "      <td>0</td>\n",
       "      <td>1</td>\n",
       "      <td>Corporate Auto</td>\n",
       "      <td>Corporate L3</td>\n",
       "      <td>Offer1</td>\n",
       "      <td>Agent</td>\n",
       "      <td>384.811147</td>\n",
       "      <td>Two-Door Car</td>\n",
       "      <td>Medsize</td>\n",
       "    </tr>\n",
       "    <tr>\n",
       "      <th>1</th>\n",
       "      <td>QZ44356</td>\n",
       "      <td>Arizona</td>\n",
       "      <td>6979.535903</td>\n",
       "      <td>No</td>\n",
       "      <td>Extended</td>\n",
       "      <td>Bachelor</td>\n",
       "      <td>1/31/11</td>\n",
       "      <td>Unemployed</td>\n",
       "      <td>F</td>\n",
       "      <td>0</td>\n",
       "      <td>...</td>\n",
       "      <td>42</td>\n",
       "      <td>0</td>\n",
       "      <td>8</td>\n",
       "      <td>Personal Auto</td>\n",
       "      <td>Personal L3</td>\n",
       "      <td>Offer3</td>\n",
       "      <td>Agent</td>\n",
       "      <td>1131.464935</td>\n",
       "      <td>Four-Door Car</td>\n",
       "      <td>Medsize</td>\n",
       "    </tr>\n",
       "    <tr>\n",
       "      <th>2</th>\n",
       "      <td>AI49188</td>\n",
       "      <td>Nevada</td>\n",
       "      <td>12887.431650</td>\n",
       "      <td>No</td>\n",
       "      <td>Premium</td>\n",
       "      <td>Bachelor</td>\n",
       "      <td>2/19/11</td>\n",
       "      <td>Employed</td>\n",
       "      <td>F</td>\n",
       "      <td>48767</td>\n",
       "      <td>...</td>\n",
       "      <td>38</td>\n",
       "      <td>0</td>\n",
       "      <td>2</td>\n",
       "      <td>Personal Auto</td>\n",
       "      <td>Personal L3</td>\n",
       "      <td>Offer1</td>\n",
       "      <td>Agent</td>\n",
       "      <td>566.472247</td>\n",
       "      <td>Two-Door Car</td>\n",
       "      <td>Medsize</td>\n",
       "    </tr>\n",
       "    <tr>\n",
       "      <th>3</th>\n",
       "      <td>WW63253</td>\n",
       "      <td>California</td>\n",
       "      <td>7645.861827</td>\n",
       "      <td>No</td>\n",
       "      <td>Basic</td>\n",
       "      <td>Bachelor</td>\n",
       "      <td>1/20/11</td>\n",
       "      <td>Unemployed</td>\n",
       "      <td>M</td>\n",
       "      <td>0</td>\n",
       "      <td>...</td>\n",
       "      <td>65</td>\n",
       "      <td>0</td>\n",
       "      <td>7</td>\n",
       "      <td>Corporate Auto</td>\n",
       "      <td>Corporate L2</td>\n",
       "      <td>Offer1</td>\n",
       "      <td>Call Center</td>\n",
       "      <td>529.881344</td>\n",
       "      <td>SUV</td>\n",
       "      <td>Medsize</td>\n",
       "    </tr>\n",
       "    <tr>\n",
       "      <th>4</th>\n",
       "      <td>HB64268</td>\n",
       "      <td>Washington</td>\n",
       "      <td>2813.692575</td>\n",
       "      <td>No</td>\n",
       "      <td>Basic</td>\n",
       "      <td>Bachelor</td>\n",
       "      <td>2/3/11</td>\n",
       "      <td>Employed</td>\n",
       "      <td>M</td>\n",
       "      <td>43836</td>\n",
       "      <td>...</td>\n",
       "      <td>44</td>\n",
       "      <td>0</td>\n",
       "      <td>1</td>\n",
       "      <td>Personal Auto</td>\n",
       "      <td>Personal L1</td>\n",
       "      <td>Offer1</td>\n",
       "      <td>Agent</td>\n",
       "      <td>138.130879</td>\n",
       "      <td>Four-Door Car</td>\n",
       "      <td>Medsize</td>\n",
       "    </tr>\n",
       "  </tbody>\n",
       "</table>\n",
       "<p>5 rows × 24 columns</p>\n",
       "</div>"
      ],
      "text/plain": [
       "  Customer       State  Customer Lifetime Value Response  Coverage Education  \\\n",
       "0  BU79786  Washington              2763.519279       No     Basic  Bachelor   \n",
       "1  QZ44356     Arizona              6979.535903       No  Extended  Bachelor   \n",
       "2  AI49188      Nevada             12887.431650       No   Premium  Bachelor   \n",
       "3  WW63253  California              7645.861827       No     Basic  Bachelor   \n",
       "4  HB64268  Washington              2813.692575       No     Basic  Bachelor   \n",
       "\n",
       "  Effective To Date EmploymentStatus Gender  Income  ...  \\\n",
       "0           2/24/11         Employed      F   56274  ...   \n",
       "1           1/31/11       Unemployed      F       0  ...   \n",
       "2           2/19/11         Employed      F   48767  ...   \n",
       "3           1/20/11       Unemployed      M       0  ...   \n",
       "4            2/3/11         Employed      M   43836  ...   \n",
       "\n",
       "  Months Since Policy Inception Number of Open Complaints  Number of Policies  \\\n",
       "0                             5                         0                   1   \n",
       "1                            42                         0                   8   \n",
       "2                            38                         0                   2   \n",
       "3                            65                         0                   7   \n",
       "4                            44                         0                   1   \n",
       "\n",
       "      Policy Type        Policy  Renew Offer Type  Sales Channel  \\\n",
       "0  Corporate Auto  Corporate L3            Offer1          Agent   \n",
       "1   Personal Auto   Personal L3            Offer3          Agent   \n",
       "2   Personal Auto   Personal L3            Offer1          Agent   \n",
       "3  Corporate Auto  Corporate L2            Offer1    Call Center   \n",
       "4   Personal Auto   Personal L1            Offer1          Agent   \n",
       "\n",
       "  Total Claim Amount  Vehicle Class Vehicle Size  \n",
       "0         384.811147   Two-Door Car      Medsize  \n",
       "1        1131.464935  Four-Door Car      Medsize  \n",
       "2         566.472247   Two-Door Car      Medsize  \n",
       "3         529.881344            SUV      Medsize  \n",
       "4         138.130879  Four-Door Car      Medsize  \n",
       "\n",
       "[5 rows x 24 columns]"
      ]
     },
     "execution_count": 2,
     "metadata": {},
     "output_type": "execute_result"
    }
   ],
   "source": [
    "data = pd.read_csv('we_fn_use_c_marketing_customer_value_analysis.csv')\n",
    "data.head()"
   ]
  },
  {
   "cell_type": "code",
   "execution_count": 3,
   "id": "49af88d8",
   "metadata": {},
   "outputs": [],
   "source": [
    "data = data.copy()"
   ]
  },
  {
   "cell_type": "code",
   "execution_count": 4,
   "id": "846fbf14",
   "metadata": {},
   "outputs": [
    {
     "data": {
      "text/plain": [
       "<bound method DataFrame.info of      Customer       State  Customer Lifetime Value Response  Coverage  \\\n",
       "0     BU79786  Washington              2763.519279       No     Basic   \n",
       "1     QZ44356     Arizona              6979.535903       No  Extended   \n",
       "2     AI49188      Nevada             12887.431650       No   Premium   \n",
       "3     WW63253  California              7645.861827       No     Basic   \n",
       "4     HB64268  Washington              2813.692575       No     Basic   \n",
       "...       ...         ...                      ...      ...       ...   \n",
       "9129  LA72316  California             23405.987980       No     Basic   \n",
       "9130  PK87824  California              3096.511217      Yes  Extended   \n",
       "9131  TD14365  California              8163.890428       No  Extended   \n",
       "9132  UP19263  California              7524.442436       No  Extended   \n",
       "9133  Y167826  California              2611.836866       No  Extended   \n",
       "\n",
       "     Education Effective To Date EmploymentStatus Gender  Income  ...  \\\n",
       "0     Bachelor           2/24/11         Employed      F   56274  ...   \n",
       "1     Bachelor           1/31/11       Unemployed      F       0  ...   \n",
       "2     Bachelor           2/19/11         Employed      F   48767  ...   \n",
       "3     Bachelor           1/20/11       Unemployed      M       0  ...   \n",
       "4     Bachelor            2/3/11         Employed      M   43836  ...   \n",
       "...        ...               ...              ...    ...     ...  ...   \n",
       "9129  Bachelor           2/10/11         Employed      M   71941  ...   \n",
       "9130   College           2/12/11         Employed      F   21604  ...   \n",
       "9131  Bachelor            2/6/11       Unemployed      M       0  ...   \n",
       "9132   College            2/3/11         Employed      M   21941  ...   \n",
       "9133   College           2/14/11       Unemployed      M       0  ...   \n",
       "\n",
       "     Months Since Policy Inception Number of Open Complaints  \\\n",
       "0                                5                         0   \n",
       "1                               42                         0   \n",
       "2                               38                         0   \n",
       "3                               65                         0   \n",
       "4                               44                         0   \n",
       "...                            ...                       ...   \n",
       "9129                            89                         0   \n",
       "9130                            28                         0   \n",
       "9131                            37                         3   \n",
       "9132                             3                         0   \n",
       "9133                            90                         0   \n",
       "\n",
       "      Number of Policies     Policy Type        Policy  Renew Offer Type  \\\n",
       "0                      1  Corporate Auto  Corporate L3            Offer1   \n",
       "1                      8   Personal Auto   Personal L3            Offer3   \n",
       "2                      2   Personal Auto   Personal L3            Offer1   \n",
       "3                      7  Corporate Auto  Corporate L2            Offer1   \n",
       "4                      1   Personal Auto   Personal L1            Offer1   \n",
       "...                  ...             ...           ...               ...   \n",
       "9129                   2   Personal Auto   Personal L1            Offer2   \n",
       "9130                   1  Corporate Auto  Corporate L3            Offer1   \n",
       "9131                   2  Corporate Auto  Corporate L2            Offer1   \n",
       "9132                   3   Personal Auto   Personal L2            Offer3   \n",
       "9133                   1  Corporate Auto  Corporate L3            Offer4   \n",
       "\n",
       "      Sales Channel Total Claim Amount  Vehicle Class Vehicle Size  \n",
       "0             Agent         384.811147   Two-Door Car      Medsize  \n",
       "1             Agent        1131.464935  Four-Door Car      Medsize  \n",
       "2             Agent         566.472247   Two-Door Car      Medsize  \n",
       "3       Call Center         529.881344            SUV      Medsize  \n",
       "4             Agent         138.130879  Four-Door Car      Medsize  \n",
       "...             ...                ...            ...          ...  \n",
       "9129            Web         198.234764  Four-Door Car      Medsize  \n",
       "9130         Branch         379.200000  Four-Door Car      Medsize  \n",
       "9131         Branch         790.784983  Four-Door Car      Medsize  \n",
       "9132         Branch         691.200000  Four-Door Car        Large  \n",
       "9133    Call Center         369.600000   Two-Door Car      Medsize  \n",
       "\n",
       "[9134 rows x 24 columns]>"
      ]
     },
     "execution_count": 4,
     "metadata": {},
     "output_type": "execute_result"
    }
   ],
   "source": [
    "data.info"
   ]
  },
  {
   "cell_type": "markdown",
   "id": "9eb67685",
   "metadata": {},
   "source": [
    "#### Global variables"
   ]
  },
  {
   "cell_type": "code",
   "execution_count": 5,
   "id": "c1e829fa",
   "metadata": {},
   "outputs": [],
   "source": [
    "discrete_values = pd.DataFrame()\n",
    "continuous_values = pd.DataFrame()\n",
    "categorical_values = pd.DataFrame()\n",
    "\n",
    "numerical_clean = pd.DataFrame()\n",
    "categorical_clean = pd.DataFrame()"
   ]
  },
  {
   "cell_type": "markdown",
   "id": "77bc09d0",
   "metadata": {},
   "source": [
    "####  Cleaning/Wrangling/EDA"
   ]
  },
  {
   "cell_type": "markdown",
   "id": "47425987",
   "metadata": {},
   "source": [
    "* Change headers names.\n",
    "* Deal with NaN values.\n",
    "* Categorical Features.\n",
    "* Numerical Features.\n",
    "* Exploration."
   ]
  },
  {
   "cell_type": "code",
   "execution_count": 6,
   "id": "8db48d33",
   "metadata": {},
   "outputs": [],
   "source": [
    "def check_dataypes(data):\n",
    "    numerical_discrete = data.select_dtypes(np.number)\n",
    "    categorical = data.select_dtypes(object)\n",
    "    \n",
    "    return numerical_discrete,categorical"
   ]
  },
  {
   "cell_type": "code",
   "execution_count": 7,
   "id": "d86a842e",
   "metadata": {
    "scrolled": false
   },
   "outputs": [],
   "source": [
    "discrete_values,categorical_values = check_dataypes(data)"
   ]
  },
  {
   "cell_type": "code",
   "execution_count": 8,
   "id": "56cc7c52",
   "metadata": {},
   "outputs": [],
   "source": [
    "def clean_data_basic(discrete_values,categorical_values):\n",
    "    \n",
    "    #replace missing numericals with medians\n",
    "    #replace missing categoricals with mode\n",
    "    for col in discrete_values.columns:\n",
    "        discrete_values[col] = discrete_values[col].fillna(np.median(discrete_values[col]))\n",
    "    for col in categorical_values.columns:\n",
    "        categorical_values[col] = categorical_values[col].fillna(categorical_values[col].mode())\n",
    "     \n",
    "    #standardise header names\n",
    "    discrete_df = discrete_values.rename(columns=str.lower)\n",
    "    discrete_df.columns = discrete_df.columns.str.replace(' ', '_')\n",
    "    discrete_df.drop_duplicates() \n",
    "    cat_df = categorical_values.rename(columns=str.lower) \n",
    "    cat_df.columns = cat_df.columns.str.replace(' ', '_')\n",
    "    cat_df.drop_duplicates() \n",
    "       \n",
    "    return discrete_df,cat_df"
   ]
  },
  {
   "cell_type": "code",
   "execution_count": 9,
   "id": "fc3ef908",
   "metadata": {},
   "outputs": [],
   "source": [
    "numerical_clean,categorical_clean = clean_data_basic(discrete_values,categorical_values)"
   ]
  },
  {
   "cell_type": "code",
   "execution_count": 10,
   "id": "8341af11",
   "metadata": {},
   "outputs": [],
   "source": [
    "clean_df = pd.concat([numerical_clean, categorical_clean],axis=1)\n",
    "clean_df = clean_df.drop(columns = ['customer','effective_to_date'],axis=1) #because of its difficult to encode even though it is an object"
   ]
  },
  {
   "cell_type": "code",
   "execution_count": 11,
   "id": "d24df575",
   "metadata": {},
   "outputs": [
    {
     "name": "stdout",
     "output_type": "stream",
     "text": [
      "<class 'pandas.core.frame.DataFrame'>\n",
      "RangeIndex: 9134 entries, 0 to 9133\n",
      "Data columns (total 22 columns):\n",
      " #   Column                         Non-Null Count  Dtype  \n",
      "---  ------                         --------------  -----  \n",
      " 0   customer_lifetime_value        9134 non-null   float64\n",
      " 1   income                         9134 non-null   int64  \n",
      " 2   monthly_premium_auto           9134 non-null   int64  \n",
      " 3   months_since_last_claim        9134 non-null   int64  \n",
      " 4   months_since_policy_inception  9134 non-null   int64  \n",
      " 5   number_of_open_complaints      9134 non-null   int64  \n",
      " 6   number_of_policies             9134 non-null   int64  \n",
      " 7   total_claim_amount             9134 non-null   float64\n",
      " 8   state                          9134 non-null   object \n",
      " 9   response                       9134 non-null   object \n",
      " 10  coverage                       9134 non-null   object \n",
      " 11  education                      9134 non-null   object \n",
      " 12  employmentstatus               9134 non-null   object \n",
      " 13  gender                         9134 non-null   object \n",
      " 14  location_code                  9134 non-null   object \n",
      " 15  marital_status                 9134 non-null   object \n",
      " 16  policy_type                    9134 non-null   object \n",
      " 17  policy                         9134 non-null   object \n",
      " 18  renew_offer_type               9134 non-null   object \n",
      " 19  sales_channel                  9134 non-null   object \n",
      " 20  vehicle_class                  9134 non-null   object \n",
      " 21  vehicle_size                   9134 non-null   object \n",
      "dtypes: float64(2), int64(6), object(14)\n",
      "memory usage: 1.5+ MB\n"
     ]
    }
   ],
   "source": [
    "clean_df.info()"
   ]
  },
  {
   "cell_type": "markdown",
   "id": "7ef93802",
   "metadata": {},
   "source": [
    "#### We can try to replace certain categorical coloumns to ease up the encoding as follows"
   ]
  },
  {
   "cell_type": "code",
   "execution_count": 12,
   "id": "eb9d7deb",
   "metadata": {},
   "outputs": [
    {
     "data": {
      "text/plain": [
       "array(['Corporate Auto', 'Personal Auto', 'Special Auto'], dtype=object)"
      ]
     },
     "metadata": {},
     "output_type": "display_data"
    },
    {
     "data": {
      "text/plain": [
       "array(['Corporate L3', 'Personal L3', 'Corporate L2', 'Personal L1',\n",
       "       'Special L2', 'Corporate L1', 'Personal L2', 'Special L1',\n",
       "       'Special L3'], dtype=object)"
      ]
     },
     "metadata": {},
     "output_type": "display_data"
    }
   ],
   "source": [
    "display(clean_df['policy_type'].unique())\n",
    "display(clean_df['policy'].unique())"
   ]
  },
  {
   "cell_type": "code",
   "execution_count": 13,
   "id": "dcad3145",
   "metadata": {},
   "outputs": [
    {
     "data": {
      "text/plain": [
       "Personal    6788\n",
       "special     2346\n",
       "Name: policy_type, dtype: int64"
      ]
     },
     "execution_count": 13,
     "metadata": {},
     "output_type": "execute_result"
    }
   ],
   "source": [
    "clean_df['policy_type'] = clean_df['policy_type'].replace({'Corporate Auto':'special', 'Special Auto':'special','Personal Auto':'Personal'})\n",
    "clean_df['policy_type'].value_counts()"
   ]
  },
  {
   "cell_type": "code",
   "execution_count": 14,
   "id": "3796967a",
   "metadata": {},
   "outputs": [
    {
     "data": {
      "text/plain": [
       "Bachelor                2748\n",
       "College                 2681\n",
       "High School or Below    2622\n",
       "post graduate           1083\n",
       "Name: education, dtype: int64"
      ]
     },
     "execution_count": 14,
     "metadata": {},
     "output_type": "execute_result"
    }
   ],
   "source": [
    "clean_df['education'] = clean_df['education'].replace({'Master':'post graduate','Doctor':'post graduate'})\n",
    "clean_df['education'].value_counts()"
   ]
  },
  {
   "cell_type": "code",
   "execution_count": 15,
   "id": "86e9b7d4",
   "metadata": {},
   "outputs": [
    {
     "data": {
      "text/plain": [
       "Married    5298\n",
       "Single     3836\n",
       "Name: marital_status, dtype: int64"
      ]
     },
     "execution_count": 15,
     "metadata": {},
     "output_type": "execute_result"
    }
   ],
   "source": [
    "clean_df['marital_status'] = clean_df['marital_status'].replace({'Divorced':'Single'})\n",
    "clean_df['marital_status'].value_counts()"
   ]
  },
  {
   "cell_type": "code",
   "execution_count": 16,
   "id": "36a60ae6",
   "metadata": {},
   "outputs": [
    {
     "data": {
      "text/plain": [
       "Employed         5698\n",
       "not available    3436\n",
       "Name: employmentstatus, dtype: int64"
      ]
     },
     "execution_count": 16,
     "metadata": {},
     "output_type": "execute_result"
    }
   ],
   "source": [
    "clean_df['employmentstatus'] = clean_df['employmentstatus'].replace({'Medical Leave':'not available','Disabled':'not available','Unemployed':'not available','Retired':'not available'})\n",
    "clean_df['employmentstatus'].value_counts()"
   ]
  },
  {
   "cell_type": "code",
   "execution_count": 17,
   "id": "d1437829",
   "metadata": {},
   "outputs": [
    {
     "data": {
      "text/plain": [
       "Four-Door Car    4621\n",
       "Two-Door Car     1886\n",
       "SUV              1796\n",
       "Special           831\n",
       "Name: vehicle_class, dtype: int64"
      ]
     },
     "execution_count": 17,
     "metadata": {},
     "output_type": "execute_result"
    }
   ],
   "source": [
    "clean_df['vehicle_class'] = clean_df['vehicle_class'].replace({'Sports Car':'Special','Luxury SUV':'Special','Luxury Car':'Special'})\n",
    "clean_df['vehicle_class'].value_counts()\n"
   ]
  },
  {
   "cell_type": "markdown",
   "id": "08e579ea",
   "metadata": {},
   "source": [
    "# Lab 3 of week4"
   ]
  },
  {
   "cell_type": "markdown",
   "id": "3ce8923d",
   "metadata": {},
   "source": [
    "#### We will start with removing outliers, if you have not already done so. We have discussed different methods to remove outliers. Use the one you feel more comfortable with, define a function for that. Use the function to remove the outliers and apply it to the dataframe."
   ]
  },
  {
   "cell_type": "code",
   "execution_count": 18,
   "id": "6a1c46ea",
   "metadata": {},
   "outputs": [],
   "source": [
    "def remove_outliers(data):\n",
    "    model_df = data.copy()\n",
    "    numeric = model_df.select_dtypes(np.number)\n",
    "    for col in numeric.columns:\n",
    "        if col != 'total_claim_amount':\n",
    "            iqr = np.percentile(model_df[col],75) - np.percentile(model_df[col],25)\n",
    "            upper_limit = np.percentile(model_df[col],75) + 1.5*iqr\n",
    "            lower_limit = np.percentile(model_df[col],25) - 1.5*iqr\n",
    "            model_df = model_df[(model_df[col] > lower_limit) & (model_df[col] < upper_limit)]\n",
    "        return model_df"
   ]
  },
  {
   "cell_type": "code",
   "execution_count": 19,
   "id": "a284981f",
   "metadata": {},
   "outputs": [
    {
     "data": {
      "text/html": [
       "<div>\n",
       "<style scoped>\n",
       "    .dataframe tbody tr th:only-of-type {\n",
       "        vertical-align: middle;\n",
       "    }\n",
       "\n",
       "    .dataframe tbody tr th {\n",
       "        vertical-align: top;\n",
       "    }\n",
       "\n",
       "    .dataframe thead th {\n",
       "        text-align: right;\n",
       "    }\n",
       "</style>\n",
       "<table border=\"1\" class=\"dataframe\">\n",
       "  <thead>\n",
       "    <tr style=\"text-align: right;\">\n",
       "      <th></th>\n",
       "      <th>count</th>\n",
       "      <th>mean</th>\n",
       "      <th>std</th>\n",
       "      <th>min</th>\n",
       "      <th>25%</th>\n",
       "      <th>50%</th>\n",
       "      <th>75%</th>\n",
       "      <th>max</th>\n",
       "    </tr>\n",
       "  </thead>\n",
       "  <tbody>\n",
       "    <tr>\n",
       "      <th>customer_lifetime_value</th>\n",
       "      <td>8317.0</td>\n",
       "      <td>6279.177892</td>\n",
       "      <td>3240.426385</td>\n",
       "      <td>1898.007675</td>\n",
       "      <td>3746.751625</td>\n",
       "      <td>5470.060561</td>\n",
       "      <td>8162.617053</td>\n",
       "      <td>16407.664610</td>\n",
       "    </tr>\n",
       "    <tr>\n",
       "      <th>income</th>\n",
       "      <td>8317.0</td>\n",
       "      <td>37638.476855</td>\n",
       "      <td>30415.335684</td>\n",
       "      <td>0.000000</td>\n",
       "      <td>0.000000</td>\n",
       "      <td>33837.000000</td>\n",
       "      <td>62229.000000</td>\n",
       "      <td>99981.000000</td>\n",
       "    </tr>\n",
       "    <tr>\n",
       "      <th>monthly_premium_auto</th>\n",
       "      <td>8317.0</td>\n",
       "      <td>90.949621</td>\n",
       "      <td>31.047412</td>\n",
       "      <td>61.000000</td>\n",
       "      <td>68.000000</td>\n",
       "      <td>81.000000</td>\n",
       "      <td>107.000000</td>\n",
       "      <td>298.000000</td>\n",
       "    </tr>\n",
       "    <tr>\n",
       "      <th>months_since_last_claim</th>\n",
       "      <td>8317.0</td>\n",
       "      <td>15.034387</td>\n",
       "      <td>10.038850</td>\n",
       "      <td>0.000000</td>\n",
       "      <td>6.000000</td>\n",
       "      <td>14.000000</td>\n",
       "      <td>23.000000</td>\n",
       "      <td>35.000000</td>\n",
       "    </tr>\n",
       "    <tr>\n",
       "      <th>months_since_policy_inception</th>\n",
       "      <td>8317.0</td>\n",
       "      <td>48.063124</td>\n",
       "      <td>27.920250</td>\n",
       "      <td>0.000000</td>\n",
       "      <td>24.000000</td>\n",
       "      <td>48.000000</td>\n",
       "      <td>71.000000</td>\n",
       "      <td>99.000000</td>\n",
       "    </tr>\n",
       "    <tr>\n",
       "      <th>number_of_open_complaints</th>\n",
       "      <td>8317.0</td>\n",
       "      <td>0.393171</td>\n",
       "      <td>0.927140</td>\n",
       "      <td>0.000000</td>\n",
       "      <td>0.000000</td>\n",
       "      <td>0.000000</td>\n",
       "      <td>0.000000</td>\n",
       "      <td>5.000000</td>\n",
       "    </tr>\n",
       "    <tr>\n",
       "      <th>number_of_policies</th>\n",
       "      <td>8317.0</td>\n",
       "      <td>3.037994</td>\n",
       "      <td>2.470996</td>\n",
       "      <td>1.000000</td>\n",
       "      <td>1.000000</td>\n",
       "      <td>2.000000</td>\n",
       "      <td>4.000000</td>\n",
       "      <td>9.000000</td>\n",
       "    </tr>\n",
       "    <tr>\n",
       "      <th>total_claim_amount</th>\n",
       "      <td>8317.0</td>\n",
       "      <td>423.041312</td>\n",
       "      <td>275.674499</td>\n",
       "      <td>0.099007</td>\n",
       "      <td>268.471802</td>\n",
       "      <td>374.400000</td>\n",
       "      <td>542.400000</td>\n",
       "      <td>2893.239678</td>\n",
       "    </tr>\n",
       "  </tbody>\n",
       "</table>\n",
       "</div>"
      ],
      "text/plain": [
       "                                count          mean           std  \\\n",
       "customer_lifetime_value        8317.0   6279.177892   3240.426385   \n",
       "income                         8317.0  37638.476855  30415.335684   \n",
       "monthly_premium_auto           8317.0     90.949621     31.047412   \n",
       "months_since_last_claim        8317.0     15.034387     10.038850   \n",
       "months_since_policy_inception  8317.0     48.063124     27.920250   \n",
       "number_of_open_complaints      8317.0      0.393171      0.927140   \n",
       "number_of_policies             8317.0      3.037994      2.470996   \n",
       "total_claim_amount             8317.0    423.041312    275.674499   \n",
       "\n",
       "                                       min          25%           50%  \\\n",
       "customer_lifetime_value        1898.007675  3746.751625   5470.060561   \n",
       "income                            0.000000     0.000000  33837.000000   \n",
       "monthly_premium_auto             61.000000    68.000000     81.000000   \n",
       "months_since_last_claim           0.000000     6.000000     14.000000   \n",
       "months_since_policy_inception     0.000000    24.000000     48.000000   \n",
       "number_of_open_complaints         0.000000     0.000000      0.000000   \n",
       "number_of_policies                1.000000     1.000000      2.000000   \n",
       "total_claim_amount                0.099007   268.471802    374.400000   \n",
       "\n",
       "                                        75%           max  \n",
       "customer_lifetime_value         8162.617053  16407.664610  \n",
       "income                         62229.000000  99981.000000  \n",
       "monthly_premium_auto             107.000000    298.000000  \n",
       "months_since_last_claim           23.000000     35.000000  \n",
       "months_since_policy_inception     71.000000     99.000000  \n",
       "number_of_open_complaints          0.000000      5.000000  \n",
       "number_of_policies                 4.000000      9.000000  \n",
       "total_claim_amount               542.400000   2893.239678  "
      ]
     },
     "execution_count": 19,
     "metadata": {},
     "output_type": "execute_result"
    }
   ],
   "source": [
    "model_df = remove_outliers(clean_df)\n",
    "model_df.describe().T"
   ]
  },
  {
   "cell_type": "markdown",
   "id": "6dc2615a",
   "metadata": {},
   "source": [
    "#### 1. In this final lab, we will model our data. Import sklearn train_test_split and separate the data."
   ]
  },
  {
   "cell_type": "code",
   "execution_count": 20,
   "id": "ea4285bd",
   "metadata": {},
   "outputs": [],
   "source": [
    "X = model_df.drop(['total_claim_amount'], axis=1)\n",
    "y = model_df['total_claim_amount']"
   ]
  },
  {
   "cell_type": "code",
   "execution_count": 21,
   "id": "8e95ca02",
   "metadata": {},
   "outputs": [],
   "source": [
    "#gloabal split data frame declarations\n",
    "X_train_disc = pd.DataFrame\n",
    "X_train_conti = pd.DataFrame\n",
    "X_train_cat = pd.DataFrame\n",
    "\n",
    "X_test_disc = pd.DataFrame\n",
    "X_test_conti = pd.DataFrame\n",
    "X_test_cat = pd.DataFrame"
   ]
  },
  {
   "cell_type": "code",
   "execution_count": 22,
   "id": "12bd349d",
   "metadata": {},
   "outputs": [],
   "source": [
    "def split_train_test(X,y,test_size,random_state):\n",
    "    X_train,X_test,y_train,y_test = train_test_split( X, y, test_size=test_size, random_state=random_state)\n",
    "    \n",
    "    global X_train_disc\n",
    "    global X_train_conti\n",
    "    global X_train_cat\n",
    "    global X_test_disc\n",
    "    global X_test_conti\n",
    "    global X_test_cat\n",
    "    \n",
    "    X_train_disc = X_train.select_dtypes(np.int64)\n",
    "    X_train_conti = X_train.select_dtypes(np.float64)\n",
    "    X_train_cat = X_train.select_dtypes(object)\n",
    "\n",
    "    \n",
    "    X_test_disc = X_test.select_dtypes(np.int64)\n",
    "    X_test_conti = X_test.select_dtypes(np.float64)\n",
    "    X_test_cat = X_test.select_dtypes(object)\n",
    "    \n",
    "    return X_train,X_test,y_train,y_test"
   ]
  },
  {
   "cell_type": "code",
   "execution_count": 23,
   "id": "8e8f630b",
   "metadata": {},
   "outputs": [],
   "source": [
    "X_train,X_test,y_train,y_test = split_train_test( X, y,0.30,40)"
   ]
  },
  {
   "cell_type": "markdown",
   "id": "db5c1512",
   "metadata": {},
   "source": [
    "#### 3.Create a copy of the dataframe for the data wrangling."
   ]
  },
  {
   "cell_type": "code",
   "execution_count": 24,
   "id": "c3b0568c",
   "metadata": {},
   "outputs": [],
   "source": [
    "# see results above"
   ]
  },
  {
   "cell_type": "markdown",
   "id": "4d69c585",
   "metadata": {},
   "source": [
    "#### 4. Normalize the continuous variables. You can use any one method you want."
   ]
  },
  {
   "cell_type": "markdown",
   "id": "e348556f",
   "metadata": {},
   "source": [
    "we will be using a Power Transformer"
   ]
  },
  {
   "cell_type": "code",
   "execution_count": 25,
   "id": "a3677e9f",
   "metadata": {},
   "outputs": [],
   "source": [
    "pT = PowerTransformer()\n",
    "pT.fit(X_train_conti)\n",
    "\n",
    "X_train_continuous_tran_array = pT.transform(X_train_conti)\n",
    "X_test_continuous_tran_array = pT.transform(X_test_conti)\n",
    "\n",
    "#converting array of continuous values to Dataframe\n",
    "X_train_continuous_trans_pd = pd.DataFrame(X_train_continuous_tran_array, columns=X_train_conti.columns,index=X_train_conti.index)\n",
    "X_test_continuous_trans_pd = pd.DataFrame(X_test_continuous_tran_array, columns=X_test_conti.columns,index=X_test_conti.index)"
   ]
  },
  {
   "cell_type": "markdown",
   "id": "59b63396",
   "metadata": {},
   "source": [
    "#### 5.Encode the categorical variables"
   ]
  },
  {
   "cell_type": "code",
   "execution_count": 26,
   "id": "6ff5a0c7",
   "metadata": {},
   "outputs": [],
   "source": [
    "def encode_cat(data):\n",
    "    data = data.drop(columns=['state', 'marital_status','policy_type', 'sales_channel','vehicle_class'], axis=1)\n",
    "    return pd.get_dummies(data, drop_first=True)"
   ]
  },
  {
   "cell_type": "code",
   "execution_count": 27,
   "id": "bd72ae18",
   "metadata": {},
   "outputs": [],
   "source": [
    "X_train_cat_encoded = encode_cat(X_train_cat)\n",
    "X_test_cat_encoded = encode_cat(X_test_cat)"
   ]
  },
  {
   "cell_type": "code",
   "execution_count": 28,
   "id": "d887fa2c",
   "metadata": {},
   "outputs": [],
   "source": [
    "#processed df for the regression model creation\n",
    "X_train_reg = pd.concat([X_train_disc, X_train_continuous_trans_pd, X_train_cat_encoded], axis=1)\n",
    "X_test_reg = pd.concat([X_test_disc, X_test_continuous_trans_pd, X_test_cat_encoded], axis=1)"
   ]
  },
  {
   "cell_type": "markdown",
   "id": "b98a0aec",
   "metadata": {},
   "source": [
    "#### Since the model will only accept numerical data, check and make sure that every column is numerical, if some are not, change it using encoding."
   ]
  },
  {
   "cell_type": "code",
   "execution_count": 29,
   "id": "0ba2e803",
   "metadata": {},
   "outputs": [
    {
     "name": "stdout",
     "output_type": "stream",
     "text": [
      "<class 'pandas.core.frame.DataFrame'>\n",
      "Int64Index: 5821 entries, 5526 to 8347\n",
      "Data columns (total 30 columns):\n",
      " #   Column                          Non-Null Count  Dtype  \n",
      "---  ------                          --------------  -----  \n",
      " 0   income                          5821 non-null   int64  \n",
      " 1   monthly_premium_auto            5821 non-null   int64  \n",
      " 2   months_since_last_claim         5821 non-null   int64  \n",
      " 3   months_since_policy_inception   5821 non-null   int64  \n",
      " 4   number_of_open_complaints       5821 non-null   int64  \n",
      " 5   number_of_policies              5821 non-null   int64  \n",
      " 6   customer_lifetime_value         5821 non-null   float64\n",
      " 7   response_Yes                    5821 non-null   uint8  \n",
      " 8   coverage_Extended               5821 non-null   uint8  \n",
      " 9   coverage_Premium                5821 non-null   uint8  \n",
      " 10  education_College               5821 non-null   uint8  \n",
      " 11  education_High School or Below  5821 non-null   uint8  \n",
      " 12  education_post graduate         5821 non-null   uint8  \n",
      " 13  employmentstatus_not available  5821 non-null   uint8  \n",
      " 14  gender_M                        5821 non-null   uint8  \n",
      " 15  location_code_Suburban          5821 non-null   uint8  \n",
      " 16  location_code_Urban             5821 non-null   uint8  \n",
      " 17  policy_Corporate L2             5821 non-null   uint8  \n",
      " 18  policy_Corporate L3             5821 non-null   uint8  \n",
      " 19  policy_Personal L1              5821 non-null   uint8  \n",
      " 20  policy_Personal L2              5821 non-null   uint8  \n",
      " 21  policy_Personal L3              5821 non-null   uint8  \n",
      " 22  policy_Special L1               5821 non-null   uint8  \n",
      " 23  policy_Special L2               5821 non-null   uint8  \n",
      " 24  policy_Special L3               5821 non-null   uint8  \n",
      " 25  renew_offer_type_Offer2         5821 non-null   uint8  \n",
      " 26  renew_offer_type_Offer3         5821 non-null   uint8  \n",
      " 27  renew_offer_type_Offer4         5821 non-null   uint8  \n",
      " 28  vehicle_size_Medsize            5821 non-null   uint8  \n",
      " 29  vehicle_size_Small              5821 non-null   uint8  \n",
      "dtypes: float64(1), int64(6), uint8(23)\n",
      "memory usage: 494.6 KB\n"
     ]
    }
   ],
   "source": [
    "X_train_reg.info()"
   ]
  },
  {
   "cell_type": "code",
   "execution_count": 30,
   "id": "cd5fd4d4",
   "metadata": {},
   "outputs": [],
   "source": [
    "#X_test_reg.info()"
   ]
  },
  {
   "cell_type": "markdown",
   "id": "2476c6d7",
   "metadata": {},
   "source": [
    "##### Nope. we don't seem to have any object types, we are good to go!"
   ]
  },
  {
   "cell_type": "markdown",
   "id": "74976224",
   "metadata": {},
   "source": [
    "#### Try a simple linear regression with all the data to see whether we are getting good results."
   ]
  },
  {
   "cell_type": "code",
   "execution_count": 31,
   "id": "e9a8c8b5",
   "metadata": {},
   "outputs": [
    {
     "name": "stdout",
     "output_type": "stream",
     "text": [
      "Train score: 0.7555347211131858\n",
      "Test score: 0.7333079599961732\n"
     ]
    }
   ],
   "source": [
    "lm = LinearRegression()\n",
    "lm.fit(X_train_reg, y_train)\n",
    "print(f'Train score: {lm.score(X_train_reg, y_train)}')\n",
    "print(f'Test score: {lm.score(X_test_reg, y_test)}')"
   ]
  },
  {
   "cell_type": "markdown",
   "id": "a8870c6c",
   "metadata": {},
   "source": [
    "##### we seem to have good enough accuracy. moving further"
   ]
  },
  {
   "cell_type": "markdown",
   "id": "aa9deb49",
   "metadata": {},
   "source": [
    "#### Great! Now define a function that takes a list of models and train (and tests) them so we can try a lot of them without repeating code."
   ]
  },
  {
   "cell_type": "code",
   "execution_count": 52,
   "id": "a007a14d",
   "metadata": {},
   "outputs": [],
   "source": [
    "def model_trainer(model,X_train_reg,y_train):\n",
    "    model_reg = model\n",
    "    model_reg.fit(X_train_reg, y_train)\n",
    "    return model_reg"
   ]
  },
  {
   "cell_type": "code",
   "execution_count": 107,
   "id": "50ad2e55",
   "metadata": {},
   "outputs": [],
   "source": [
    "def model_validator(fitted_model, X_train, y_train, X_test, y_test):\n",
    "    \n",
    "    y_pred_train = fitted_model.predict(X_train)\n",
    "    train_set_score = r2_score(y_train, y_pred_train)\n",
    "   \n",
    "    y_pred_test = fitted_model.predict(X_test)\n",
    "    test_set_score = r2_score(y_test, y_pred_test)\n",
    "    return train_set_score,test_set_score"
   ]
  },
  {
   "cell_type": "code",
   "execution_count": 108,
   "id": "d7083850",
   "metadata": {},
   "outputs": [],
   "source": [
    "#user input"
   ]
  },
  {
   "cell_type": "code",
   "execution_count": 109,
   "id": "c4c12a42",
   "metadata": {},
   "outputs": [],
   "source": [
    "# pass the name of the model in place of model name\n",
    "#Example: fitted_model = model_trainer(name_of_the_model,X_train_reg,y_train)\n",
    "\n",
    "fitted_model = model_trainer(LinearRegression(),X_train_reg,y_train)"
   ]
  },
  {
   "cell_type": "code",
   "execution_count": 110,
   "id": "a7f6c3ad",
   "metadata": {},
   "outputs": [
    {
     "data": {
      "text/plain": [
       "(0.7555347211131858, 0.7333079599961732)"
      ]
     },
     "execution_count": 110,
     "metadata": {},
     "output_type": "execute_result"
    }
   ],
   "source": [
    "model_validator(fitted_model,X_train_reg, y_train,X_test_reg, y_test)\n",
    "#here X_train_reg and X_test_reg are the cleaned and normalised values that's used in building the model"
   ]
  },
  {
   "cell_type": "markdown",
   "id": "0b9cbe0e",
   "metadata": {},
   "source": [
    "#### Use the function to check LinearRegressor and KNeighborsRegressor."
   ]
  },
  {
   "cell_type": "markdown",
   "id": "d7862841",
   "metadata": {},
   "source": [
    "#### You can check also the MLPRegressor for this task!"
   ]
  },
  {
   "cell_type": "code",
   "execution_count": 120,
   "id": "6cfdb45e",
   "metadata": {},
   "outputs": [],
   "source": [
    "def input_model_name():\n",
    "    print(\"the following are the available models\" )\n",
    "    print(\"1. Linear Regression\")\n",
    "    print(\"2. KNeighborsRegressor\")\n",
    "    print(\"3. MLPRegressor\")\n",
    "    \n",
    "    input_value = int(input(\"select the model:\"))\n",
    "    if (input_value == 1):\n",
    "        fitted_model = model_trainer(LinearRegression(),X_train_reg,y_train)\n",
    "        train_set_score,test_set_score = model_validator(fitted_model,X_train_reg, y_train,X_test_reg, y_test)\n",
    "        print(f\"Training score: {train_set_score}\")\n",
    "        print(f\"Test score: {test_set_score}\")\n",
    "     \n",
    "    if (input_value == 2):\n",
    "        fitted_model = model_trainer(KNeighborsRegressor(n_neighbors=4),X_train_reg,y_train)\n",
    "        train_set_score,test_set_score = model_validator(fitted_model,X_train_reg, y_train,X_test_reg, y_test)\n",
    "        print(f\"Training score: {train_set_score}\")\n",
    "        print(f\"Test score: {test_set_score}\")    \n",
    "    if (input_value == 3):\n",
    "        fitted_model = model_trainer(MLPRegressor(),X_train_reg,y_train)\n",
    "        train_set_score,test_set_score = model_validator(fitted_model,X_train_reg, y_train,X_test_reg, y_test)\n",
    "        print(f\"Training score: {train_set_score}\")\n",
    "        print(f\"Test score: {test_set_score}\")"
   ]
  },
  {
   "cell_type": "code",
   "execution_count": 125,
   "id": "8d925471",
   "metadata": {},
   "outputs": [
    {
     "name": "stdout",
     "output_type": "stream",
     "text": [
      "the following are the available models\n",
      "1. Linear Regression\n",
      "2. KNeighborsRegressor\n",
      "3. MLPRegressor\n",
      "select the model:3\n",
      "Training score: 0.5943049451598201\n",
      "Test score: 0.5889357042072666\n"
     ]
    }
   ],
   "source": [
    "input_model_name()"
   ]
  },
  {
   "cell_type": "markdown",
   "id": "1b2f8f84",
   "metadata": {},
   "source": [
    "#### Check and discuss the results."
   ]
  },
  {
   "cell_type": "markdown",
   "id": "f329bc2f",
   "metadata": {},
   "source": [
    "For the test set slect at 30 percent and random state of 40. The following were the results in the form of R2 score for different Models:\n",
    "    "
   ]
  },
  {
   "cell_type": "markdown",
   "id": "5fba5c99",
   "metadata": {},
   "source": [
    "* Linear Regressor:\n",
    "    Training score: 0.7555347211131858\n",
    "    Test score: 0.7333079599961732"
   ]
  },
  {
   "cell_type": "markdown",
   "id": "845f680f",
   "metadata": {},
   "source": [
    "* KNN regressor:\n",
    "    Training score: 0.6306871577192283\n",
    "    Test score: 0.383922980791489"
   ]
  },
  {
   "cell_type": "markdown",
   "id": "b26bde4c",
   "metadata": {},
   "source": [
    "* MLP Regressor:\n",
    "    Training score: 0.5943049451598201\n",
    "    Test score: 0.5889357042072666"
   ]
  }
 ],
 "metadata": {
  "kernelspec": {
   "display_name": "Python 3 (ipykernel)",
   "language": "python",
   "name": "python3"
  },
  "language_info": {
   "codemirror_mode": {
    "name": "ipython",
    "version": 3
   },
   "file_extension": ".py",
   "mimetype": "text/x-python",
   "name": "python",
   "nbconvert_exporter": "python",
   "pygments_lexer": "ipython3",
   "version": "3.9.12"
  }
 },
 "nbformat": 4,
 "nbformat_minor": 5
}
